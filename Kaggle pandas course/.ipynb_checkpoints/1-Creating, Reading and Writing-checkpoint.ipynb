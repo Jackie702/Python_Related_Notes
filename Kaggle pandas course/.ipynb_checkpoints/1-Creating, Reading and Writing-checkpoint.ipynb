{
 "cells": [
  {
   "cell_type": "markdown",
   "metadata": {},
   "source": [
    "# Creating, Reading and Writing\n",
    "There are two core objects in pandas: the **DataFrame** and the **Series**."
   ]
  },
  {
   "cell_type": "code",
   "execution_count": 3,
   "metadata": {},
   "outputs": [],
   "source": [
    "import pandas as pd"
   ]
  },
  {
   "cell_type": "markdown",
   "metadata": {},
   "source": [
    "## 1.1 Creating data"
   ]
  },
  {
   "cell_type": "code",
   "execution_count": 3,
   "metadata": {},
   "outputs": [
    {
     "data": {
      "text/html": [
       "<div>\n",
       "<style scoped>\n",
       "    .dataframe tbody tr th:only-of-type {\n",
       "        vertical-align: middle;\n",
       "    }\n",
       "\n",
       "    .dataframe tbody tr th {\n",
       "        vertical-align: top;\n",
       "    }\n",
       "\n",
       "    .dataframe thead th {\n",
       "        text-align: right;\n",
       "    }\n",
       "</style>\n",
       "<table border=\"1\" class=\"dataframe\">\n",
       "  <thead>\n",
       "    <tr style=\"text-align: right;\">\n",
       "      <th></th>\n",
       "      <th>Yes</th>\n",
       "      <th>No</th>\n",
       "    </tr>\n",
       "  </thead>\n",
       "  <tbody>\n",
       "    <tr>\n",
       "      <th>0</th>\n",
       "      <td>50</td>\n",
       "      <td>131</td>\n",
       "    </tr>\n",
       "    <tr>\n",
       "      <th>1</th>\n",
       "      <td>21</td>\n",
       "      <td>2</td>\n",
       "    </tr>\n",
       "  </tbody>\n",
       "</table>\n",
       "</div>"
      ],
      "text/plain": [
       "   Yes   No\n",
       "0   50  131\n",
       "1   21    2"
      ]
     },
     "execution_count": 3,
     "metadata": {},
     "output_type": "execute_result"
    }
   ],
   "source": [
    "# A DataFrame is a table.\n",
    "# constructor: pd.DataFrame()\n",
    "# Input a dict, keys are column name, values are a list of entries\n",
    "df = pd.DataFrame({'Yes': [50, 21], 'No': [131, 2]}) \n",
    "df"
   ]
  },
  {
   "cell_type": "code",
   "execution_count": 4,
   "metadata": {},
   "outputs": [
    {
     "data": {
      "text/html": [
       "<div>\n",
       "<style scoped>\n",
       "    .dataframe tbody tr th:only-of-type {\n",
       "        vertical-align: middle;\n",
       "    }\n",
       "\n",
       "    .dataframe tbody tr th {\n",
       "        vertical-align: top;\n",
       "    }\n",
       "\n",
       "    .dataframe thead th {\n",
       "        text-align: right;\n",
       "    }\n",
       "</style>\n",
       "<table border=\"1\" class=\"dataframe\">\n",
       "  <thead>\n",
       "    <tr style=\"text-align: right;\">\n",
       "      <th></th>\n",
       "      <th>Apples</th>\n",
       "      <th>Bananas</th>\n",
       "    </tr>\n",
       "  </thead>\n",
       "  <tbody>\n",
       "    <tr>\n",
       "      <th>0</th>\n",
       "      <td>30</td>\n",
       "      <td>21</td>\n",
       "    </tr>\n",
       "  </tbody>\n",
       "</table>\n",
       "</div>"
      ],
      "text/plain": [
       "   Apples  Bananas\n",
       "0      30       21"
      ]
     },
     "execution_count": 4,
     "metadata": {},
     "output_type": "execute_result"
    }
   ],
   "source": [
    "# Another way to create a DataFrame, using columns parameter\n",
    "pd.DataFrame([[30, 21]], columns=['Apples', 'Bananas'])"
   ]
  },
  {
   "cell_type": "code",
   "execution_count": 7,
   "metadata": {},
   "outputs": [
    {
     "data": {
      "text/html": [
       "<div>\n",
       "<style scoped>\n",
       "    .dataframe tbody tr th:only-of-type {\n",
       "        vertical-align: middle;\n",
       "    }\n",
       "\n",
       "    .dataframe tbody tr th {\n",
       "        vertical-align: top;\n",
       "    }\n",
       "\n",
       "    .dataframe thead th {\n",
       "        text-align: right;\n",
       "    }\n",
       "</style>\n",
       "<table border=\"1\" class=\"dataframe\">\n",
       "  <thead>\n",
       "    <tr style=\"text-align: right;\">\n",
       "      <th></th>\n",
       "      <th>Bod</th>\n",
       "      <th>Sue</th>\n",
       "    </tr>\n",
       "  </thead>\n",
       "  <tbody>\n",
       "    <tr>\n",
       "      <th>Product A</th>\n",
       "      <td>Like</td>\n",
       "      <td>Good</td>\n",
       "    </tr>\n",
       "    <tr>\n",
       "      <th>Product B</th>\n",
       "      <td>Awful</td>\n",
       "      <td>Bland</td>\n",
       "    </tr>\n",
       "  </tbody>\n",
       "</table>\n",
       "</div>"
      ],
      "text/plain": [
       "             Bod    Sue\n",
       "Product A   Like   Good\n",
       "Product B  Awful  Bland"
      ]
     },
     "execution_count": 7,
     "metadata": {},
     "output_type": "execute_result"
    }
   ],
   "source": [
    "# Assign row labels, using index parameter\n",
    "df = pd.DataFrame({\"Bod\" : [\"Like\", \"Awful\"],\n",
    "                   \"Sue\" : [\"Good\", \"Bland\"]},\n",
    "                     index = [\"Product A\", \"Product B\"])\n",
    "df"
   ]
  },
  {
   "cell_type": "code",
   "execution_count": 8,
   "metadata": {},
   "outputs": [
    {
     "data": {
      "text/plain": [
       "0    1\n",
       "1    2\n",
       "2    3\n",
       "3    4\n",
       "4    5\n",
       "dtype: int64"
      ]
     },
     "execution_count": 8,
     "metadata": {},
     "output_type": "execute_result"
    }
   ],
   "source": [
    "# A Series is a sequence of data values, a Series is a list.\n",
    "# Or a single column of a DataFrame\n",
    "series = pd.Series([1, 2, 3, 4, 5])\n",
    "series"
   ]
  },
  {
   "cell_type": "code",
   "execution_count": 12,
   "metadata": {},
   "outputs": [
    {
     "data": {
      "text/plain": [
       "2015 sales    1\n",
       "2016 sales    2\n",
       "2017 sales    3\n",
       "Name: Product A, dtype: int64"
      ]
     },
     "execution_count": 12,
     "metadata": {},
     "output_type": "execute_result"
    }
   ],
   "source": [
    "# A series doesn't have a column name\n",
    "# we can only assign column names: usign index parameter\n",
    "# assign a overall name: using name parameter\n",
    "pd.Series([1, 2, 3],\n",
    "          index = [\"2015 sales\", \"2016 sales\", \"2017 sales\"],\n",
    "          name = \"Product A\")"
   ]
  },
  {
   "cell_type": "markdown",
   "metadata": {},
   "source": [
    "##  1.2 Reading data files\n",
    "**csv files:** a table of values separated by commas. Hence the name: \"Comma-Separated Values\", or CSV."
   ]
  },
  {
   "cell_type": "code",
   "execution_count": 17,
   "metadata": {},
   "outputs": [
    {
     "data": {
      "text/plain": [
       "(40, 5)"
      ]
     },
     "execution_count": 17,
     "metadata": {},
     "output_type": "execute_result"
    }
   ],
   "source": [
    "# read a csv file, put it into a DataFrame \n",
    "# and get its shape\n",
    "atl_addr = pd.read_csv(\"./atl-address-1.csv\")\n",
    "atl_addr.shape    # 40 rows, 5 columns"
   ]
  },
  {
   "cell_type": "code",
   "execution_count": 18,
   "metadata": {},
   "outputs": [
    {
     "data": {
      "text/html": [
       "<div>\n",
       "<style scoped>\n",
       "    .dataframe tbody tr th:only-of-type {\n",
       "        vertical-align: middle;\n",
       "    }\n",
       "\n",
       "    .dataframe tbody tr th {\n",
       "        vertical-align: top;\n",
       "    }\n",
       "\n",
       "    .dataframe thead th {\n",
       "        text-align: right;\n",
       "    }\n",
       "</style>\n",
       "<table border=\"1\" class=\"dataframe\">\n",
       "  <thead>\n",
       "    <tr style=\"text-align: right;\">\n",
       "      <th></th>\n",
       "      <th>Title</th>\n",
       "      <th>Price</th>\n",
       "      <th>Beds</th>\n",
       "      <th>Baths</th>\n",
       "      <th>Area</th>\n",
       "    </tr>\n",
       "  </thead>\n",
       "  <tbody>\n",
       "    <tr>\n",
       "      <th>0</th>\n",
       "      <td>34 The Prado NE, Atlanta, GA 30309</td>\n",
       "      <td>$1,495,000</td>\n",
       "      <td>4 bds</td>\n",
       "      <td>4 ba</td>\n",
       "      <td>3,644 sqft</td>\n",
       "    </tr>\n",
       "    <tr>\n",
       "      <th>1</th>\n",
       "      <td>2060 Shirley St SW, Atlanta, GA 30311</td>\n",
       "      <td>$225,000</td>\n",
       "      <td>3 bds</td>\n",
       "      <td>2 ba</td>\n",
       "      <td>1,300 sqft</td>\n",
       "    </tr>\n",
       "    <tr>\n",
       "      <th>2</th>\n",
       "      <td>300 Peachtree St NE APT 11G, Atlanta, GA 30308</td>\n",
       "      <td>$259,000</td>\n",
       "      <td>2 bds</td>\n",
       "      <td>2 ba</td>\n",
       "      <td>890 sqft</td>\n",
       "    </tr>\n",
       "    <tr>\n",
       "      <th>3</th>\n",
       "      <td>1690 Memorial Dr SE, Atlanta, GA 30317</td>\n",
       "      <td>$320,000</td>\n",
       "      <td>2 bds</td>\n",
       "      <td>1 ba</td>\n",
       "      <td>1,163 sqft</td>\n",
       "    </tr>\n",
       "    <tr>\n",
       "      <th>4</th>\n",
       "      <td>6253 Old Kingston Dr, South Fulton, GA</td>\n",
       "      <td>$349,275</td>\n",
       "      <td>5 bds</td>\n",
       "      <td>3 ba</td>\n",
       "      <td>-- sqft</td>\n",
       "    </tr>\n",
       "  </tbody>\n",
       "</table>\n",
       "</div>"
      ],
      "text/plain": [
       "                                            Title       Price   Beds Baths  \\\n",
       "0              34 The Prado NE, Atlanta, GA 30309  $1,495,000  4 bds  4 ba   \n",
       "1           2060 Shirley St SW, Atlanta, GA 30311    $225,000  3 bds  2 ba   \n",
       "2  300 Peachtree St NE APT 11G, Atlanta, GA 30308    $259,000  2 bds  2 ba   \n",
       "3          1690 Memorial Dr SE, Atlanta, GA 30317    $320,000  2 bds  1 ba   \n",
       "4          6253 Old Kingston Dr, South Fulton, GA    $349,275  5 bds  3 ba   \n",
       "\n",
       "         Area  \n",
       "0  3,644 sqft  \n",
       "1  1,300 sqft  \n",
       "2    890 sqft  \n",
       "3  1,163 sqft  \n",
       "4     -- sqft  "
      ]
     },
     "execution_count": 18,
     "metadata": {},
     "output_type": "execute_result"
    }
   ],
   "source": [
    "# get first 5 rows to examine the contents\n",
    "atl_addr.head()"
   ]
  },
  {
   "cell_type": "markdown",
   "metadata": {},
   "source": [
    "The **pd.read_csv( )** function is well-endowed, with over 30 optional parameters you can specify. "
   ]
  },
  {
   "cell_type": "code",
   "execution_count": 12,
   "metadata": {},
   "outputs": [
    {
     "data": {
      "text/html": [
       "<div>\n",
       "<style scoped>\n",
       "    .dataframe tbody tr th:only-of-type {\n",
       "        vertical-align: middle;\n",
       "    }\n",
       "\n",
       "    .dataframe tbody tr th {\n",
       "        vertical-align: top;\n",
       "    }\n",
       "\n",
       "    .dataframe thead th {\n",
       "        text-align: right;\n",
       "    }\n",
       "</style>\n",
       "<table border=\"1\" class=\"dataframe\">\n",
       "  <thead>\n",
       "    <tr style=\"text-align: right;\">\n",
       "      <th></th>\n",
       "      <th>Price</th>\n",
       "      <th>Beds</th>\n",
       "      <th>Baths</th>\n",
       "      <th>Area</th>\n",
       "    </tr>\n",
       "    <tr>\n",
       "      <th>Title</th>\n",
       "      <th></th>\n",
       "      <th></th>\n",
       "      <th></th>\n",
       "      <th></th>\n",
       "    </tr>\n",
       "  </thead>\n",
       "  <tbody>\n",
       "    <tr>\n",
       "      <th>34 The Prado NE, Atlanta, GA 30309</th>\n",
       "      <td>$1,495,000</td>\n",
       "      <td>4 bds</td>\n",
       "      <td>4 ba</td>\n",
       "      <td>3,644 sqft</td>\n",
       "    </tr>\n",
       "    <tr>\n",
       "      <th>2060 Shirley St SW, Atlanta, GA 30311</th>\n",
       "      <td>$225,000</td>\n",
       "      <td>3 bds</td>\n",
       "      <td>2 ba</td>\n",
       "      <td>1,300 sqft</td>\n",
       "    </tr>\n",
       "    <tr>\n",
       "      <th>300 Peachtree St NE APT 11G, Atlanta, GA 30308</th>\n",
       "      <td>$259,000</td>\n",
       "      <td>2 bds</td>\n",
       "      <td>2 ba</td>\n",
       "      <td>890 sqft</td>\n",
       "    </tr>\n",
       "    <tr>\n",
       "      <th>1690 Memorial Dr SE, Atlanta, GA 30317</th>\n",
       "      <td>$320,000</td>\n",
       "      <td>2 bds</td>\n",
       "      <td>1 ba</td>\n",
       "      <td>1,163 sqft</td>\n",
       "    </tr>\n",
       "    <tr>\n",
       "      <th>6253 Old Kingston Dr, South Fulton, GA</th>\n",
       "      <td>$349,275</td>\n",
       "      <td>5 bds</td>\n",
       "      <td>3 ba</td>\n",
       "      <td>-- sqft</td>\n",
       "    </tr>\n",
       "  </tbody>\n",
       "</table>\n",
       "</div>"
      ],
      "text/plain": [
       "                                                     Price   Beds Baths  \\\n",
       "Title                                                                     \n",
       "34 The Prado NE, Atlanta, GA 30309              $1,495,000  4 bds  4 ba   \n",
       "2060 Shirley St SW, Atlanta, GA 30311             $225,000  3 bds  2 ba   \n",
       "300 Peachtree St NE APT 11G, Atlanta, GA 30308    $259,000  2 bds  2 ba   \n",
       "1690 Memorial Dr SE, Atlanta, GA 30317            $320,000  2 bds  1 ba   \n",
       "6253 Old Kingston Dr, South Fulton, GA            $349,275  5 bds  3 ba   \n",
       "\n",
       "                                                      Area  \n",
       "Title                                                       \n",
       "34 The Prado NE, Atlanta, GA 30309              3,644 sqft  \n",
       "2060 Shirley St SW, Atlanta, GA 30311           1,300 sqft  \n",
       "300 Peachtree St NE APT 11G, Atlanta, GA 30308    890 sqft  \n",
       "1690 Memorial Dr SE, Atlanta, GA 30317          1,163 sqft  \n",
       "6253 Old Kingston Dr, South Fulton, GA             -- sqft  "
      ]
     },
     "execution_count": 12,
     "metadata": {},
     "output_type": "execute_result"
    }
   ],
   "source": [
    "# Using a column in the csv file as the labels of rows\n",
    "atl_addr = pd.read_csv(\"./atl-address-1.csv\", index_col = 0)\n",
    "atl_addr.head()"
   ]
  },
  {
   "cell_type": "code",
   "execution_count": 6,
   "metadata": {},
   "outputs": [],
   "source": [
    "# Save a DataFrame to csv file\n",
    "animals = pd.DataFrame({'Cows': [12, 20], 'Goats': [22, 19]}, index=['Year 1', 'Year 2'])\n",
    "animals.to_csv(\"cow_and_goat.csv\")"
   ]
  },
  {
   "cell_type": "code",
   "execution_count": null,
   "metadata": {},
   "outputs": [],
   "source": []
  },
  {
   "cell_type": "code",
   "execution_count": null,
   "metadata": {},
   "outputs": [],
   "source": []
  },
  {
   "cell_type": "code",
   "execution_count": null,
   "metadata": {},
   "outputs": [],
   "source": []
  },
  {
   "cell_type": "code",
   "execution_count": null,
   "metadata": {},
   "outputs": [],
   "source": []
  },
  {
   "cell_type": "code",
   "execution_count": null,
   "metadata": {},
   "outputs": [],
   "source": []
  },
  {
   "cell_type": "code",
   "execution_count": null,
   "metadata": {},
   "outputs": [],
   "source": []
  }
 ],
 "metadata": {
  "kernelspec": {
   "display_name": "Python 3.7.3 64-bit ('base': conda)",
   "language": "python",
   "name": "python37364bitbaseconda02e1cef8e882440296af9c0b35ad3d8f"
  },
  "language_info": {
   "codemirror_mode": {
    "name": "ipython",
    "version": 3
   },
   "file_extension": ".py",
   "mimetype": "text/x-python",
   "name": "python",
   "nbconvert_exporter": "python",
   "pygments_lexer": "ipython3",
   "version": "3.7.3"
  }
 },
 "nbformat": 4,
 "nbformat_minor": 2
}
