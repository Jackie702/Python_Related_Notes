{
 "cells": [
  {
   "cell_type": "markdown",
   "metadata": {},
   "source": [
    "# Indexing, Selecting & Assigning"
   ]
  },
  {
   "cell_type": "code",
   "execution_count": 1,
   "metadata": {},
   "outputs": [],
   "source": [
    "import pandas as pd"
   ]
  },
  {
   "cell_type": "markdown",
   "metadata": {},
   "source": [
    "## Naive accessors"
   ]
  },
  {
   "cell_type": "code",
   "execution_count": 7,
   "metadata": {},
   "outputs": [
    {
     "data": {
      "text/html": [
       "<div>\n",
       "<style scoped>\n",
       "    .dataframe tbody tr th:only-of-type {\n",
       "        vertical-align: middle;\n",
       "    }\n",
       "\n",
       "    .dataframe tbody tr th {\n",
       "        vertical-align: top;\n",
       "    }\n",
       "\n",
       "    .dataframe thead th {\n",
       "        text-align: right;\n",
       "    }\n",
       "</style>\n",
       "<table border=\"1\" class=\"dataframe\">\n",
       "  <thead>\n",
       "    <tr style=\"text-align: right;\">\n",
       "      <th></th>\n",
       "      <th>Title</th>\n",
       "      <th>Price</th>\n",
       "      <th>Beds</th>\n",
       "      <th>Baths</th>\n",
       "      <th>Area</th>\n",
       "    </tr>\n",
       "  </thead>\n",
       "  <tbody>\n",
       "    <tr>\n",
       "      <th>0</th>\n",
       "      <td>34 The Prado NE, Atlanta, GA 30309</td>\n",
       "      <td>$1,495,000</td>\n",
       "      <td>4 bds</td>\n",
       "      <td>4 ba</td>\n",
       "      <td>3,644 sqft</td>\n",
       "    </tr>\n",
       "    <tr>\n",
       "      <th>1</th>\n",
       "      <td>2060 Shirley St SW, Atlanta, GA 30311</td>\n",
       "      <td>$225,000</td>\n",
       "      <td>3 bds</td>\n",
       "      <td>2 ba</td>\n",
       "      <td>1,300 sqft</td>\n",
       "    </tr>\n",
       "    <tr>\n",
       "      <th>2</th>\n",
       "      <td>300 Peachtree St NE APT 11G, Atlanta, GA 30308</td>\n",
       "      <td>$259,000</td>\n",
       "      <td>2 bds</td>\n",
       "      <td>2 ba</td>\n",
       "      <td>890 sqft</td>\n",
       "    </tr>\n",
       "    <tr>\n",
       "      <th>3</th>\n",
       "      <td>1690 Memorial Dr SE, Atlanta, GA 30317</td>\n",
       "      <td>$320,000</td>\n",
       "      <td>2 bds</td>\n",
       "      <td>1 ba</td>\n",
       "      <td>1,163 sqft</td>\n",
       "    </tr>\n",
       "    <tr>\n",
       "      <th>4</th>\n",
       "      <td>6253 Old Kingston Dr, South Fulton, GA</td>\n",
       "      <td>$349,275</td>\n",
       "      <td>5 bds</td>\n",
       "      <td>3 ba</td>\n",
       "      <td>-- sqft</td>\n",
       "    </tr>\n",
       "  </tbody>\n",
       "</table>\n",
       "</div>"
      ],
      "text/plain": [
       "                                            Title       Price   Beds Baths  \\\n",
       "0              34 The Prado NE, Atlanta, GA 30309  $1,495,000  4 bds  4 ba   \n",
       "1           2060 Shirley St SW, Atlanta, GA 30311    $225,000  3 bds  2 ba   \n",
       "2  300 Peachtree St NE APT 11G, Atlanta, GA 30308    $259,000  2 bds  2 ba   \n",
       "3          1690 Memorial Dr SE, Atlanta, GA 30317    $320,000  2 bds  1 ba   \n",
       "4          6253 Old Kingston Dr, South Fulton, GA    $349,275  5 bds  3 ba   \n",
       "\n",
       "         Area  \n",
       "0  3,644 sqft  \n",
       "1  1,300 sqft  \n",
       "2    890 sqft  \n",
       "3  1,163 sqft  \n",
       "4     -- sqft  "
      ]
     },
     "execution_count": 7,
     "metadata": {},
     "output_type": "execute_result"
    }
   ],
   "source": [
    "atl_addr = pd.read_csv(\"./atl-address-1.csv\")\n",
    "atl_addr.head()"
   ]
  },
  {
   "cell_type": "code",
   "execution_count": 9,
   "metadata": {},
   "outputs": [
    {
     "data": {
      "text/plain": [
       "0    $1,495,000\n",
       "1      $225,000\n",
       "2      $259,000\n",
       "3      $320,000\n",
       "4      $349,275\n",
       "Name: Price, dtype: object"
      ]
     },
     "execution_count": 9,
     "metadata": {},
     "output_type": "execute_result"
    }
   ],
   "source": [
    "# access one colum of the dataframe, via attribute(column name)\n",
    "atl_addr.Price.head()"
   ]
  },
  {
   "cell_type": "code",
   "execution_count": 11,
   "metadata": {},
   "outputs": [
    {
     "data": {
      "text/plain": [
       "0    $1,495,000\n",
       "1      $225,000\n",
       "2      $259,000\n",
       "3      $320,000\n",
       "4      $349,275\n",
       "Name: Price, dtype: object"
      ]
     },
     "execution_count": 11,
     "metadata": {},
     "output_type": "execute_result"
    }
   ],
   "source": [
    "# or using indexing operator \"[]\"\n",
    "atl_addr[\"Price\"].head()"
   ]
  },
  {
   "cell_type": "code",
   "execution_count": 13,
   "metadata": {},
   "outputs": [
    {
     "data": {
      "text/plain": [
       "'300 Peachtree St NE APT 11G, Atlanta, GA 30308'"
      ]
     },
     "execution_count": 13,
     "metadata": {},
     "output_type": "execute_result"
    }
   ],
   "source": [
    "# select a single value\n",
    "atl_addr[\"Title\"][2]"
   ]
  },
  {
   "cell_type": "markdown",
   "metadata": {},
   "source": [
    "## Indexing in pandas\n",
    "pandas has its own accessor operators, **loc** and **iloc**.<br>\n",
    "### index-based selection, iloc:"
   ]
  },
  {
   "cell_type": "code",
   "execution_count": 15,
   "metadata": {},
   "outputs": [
    {
     "data": {
      "text/plain": [
       "Title    2060 Shirley St SW, Atlanta, GA 30311\n",
       "Price                                 $225,000\n",
       "Beds                                     3 bds\n",
       "Baths                                     2 ba\n",
       "Area                                1,300 sqft\n",
       "Name: 1, dtype: object"
      ]
     },
     "execution_count": 15,
     "metadata": {},
     "output_type": "execute_result"
    }
   ],
   "source": [
    "# select the data of second row\n",
    "# both loc and iloc are row-first, column-second\n",
    "atl_addr.iloc[1]"
   ]
  },
  {
   "cell_type": "code",
   "execution_count": 18,
   "metadata": {},
   "outputs": [
    {
     "data": {
      "text/plain": [
       "0                34 The Prado NE, Atlanta, GA 30309\n",
       "1             2060 Shirley St SW, Atlanta, GA 30311\n",
       "2    300 Peachtree St NE APT 11G, Atlanta, GA 30308\n",
       "3            1690 Memorial Dr SE, Atlanta, GA 30317\n",
       "4            6253 Old Kingston Dr, South Fulton, GA\n",
       "Name: Title, dtype: object"
      ]
     },
     "execution_count": 18,
     "metadata": {},
     "output_type": "execute_result"
    }
   ],
   "source": [
    "# get a column with iloc\n",
    "atl_addr.iloc[:, 0].head()"
   ]
  },
  {
   "cell_type": "code",
   "execution_count": 20,
   "metadata": {},
   "outputs": [
    {
     "data": {
      "text/plain": [
       "1             2060 Shirley St SW, Atlanta, GA 30311\n",
       "2    300 Peachtree St NE APT 11G, Atlanta, GA 30308\n",
       "Name: Title, dtype: object"
      ]
     },
     "execution_count": 20,
     "metadata": {},
     "output_type": "execute_result"
    }
   ],
   "source": [
    "# select just second and third entries\n",
    "atl_addr.iloc[1:3, 0]"
   ]
  },
  {
   "cell_type": "code",
   "execution_count": 27,
   "metadata": {},
   "outputs": [
    {
     "data": {
      "text/plain": [
       "1             2060 Shirley St SW, Atlanta, GA 30311\n",
       "2    300 Peachtree St NE APT 11G, Atlanta, GA 30308\n",
       "3            1690 Memorial Dr SE, Atlanta, GA 30317\n",
       "Name: Title, dtype: object"
      ]
     },
     "execution_count": 27,
     "metadata": {},
     "output_type": "execute_result"
    }
   ],
   "source": [
    "# or using list\n",
    "atl_addr.iloc[[1,2,3], 0]"
   ]
  },
  {
   "cell_type": "code",
   "execution_count": 23,
   "metadata": {},
   "outputs": [
    {
     "data": {
      "text/html": [
       "<div>\n",
       "<style scoped>\n",
       "    .dataframe tbody tr th:only-of-type {\n",
       "        vertical-align: middle;\n",
       "    }\n",
       "\n",
       "    .dataframe tbody tr th {\n",
       "        vertical-align: top;\n",
       "    }\n",
       "\n",
       "    .dataframe thead th {\n",
       "        text-align: right;\n",
       "    }\n",
       "</style>\n",
       "<table border=\"1\" class=\"dataframe\">\n",
       "  <thead>\n",
       "    <tr style=\"text-align: right;\">\n",
       "      <th></th>\n",
       "      <th>Title</th>\n",
       "      <th>Price</th>\n",
       "      <th>Beds</th>\n",
       "      <th>Baths</th>\n",
       "      <th>Area</th>\n",
       "    </tr>\n",
       "  </thead>\n",
       "  <tbody>\n",
       "    <tr>\n",
       "      <th>35</th>\n",
       "      <td>1692 Sandtown Rd SW, Atlanta, GA 30311</td>\n",
       "      <td>$179,900</td>\n",
       "      <td>3 bds</td>\n",
       "      <td>3 bds</td>\n",
       "      <td>3 bds</td>\n",
       "    </tr>\n",
       "    <tr>\n",
       "      <th>36</th>\n",
       "      <td>938 Rebel Forest Dr SE, Atlanta, GA 30315</td>\n",
       "      <td>$135,000</td>\n",
       "      <td>3 bds</td>\n",
       "      <td>3 bds</td>\n",
       "      <td>3 bds</td>\n",
       "    </tr>\n",
       "    <tr>\n",
       "      <th>37</th>\n",
       "      <td>3380 Oakcliff Rd NW, Atlanta, GA 30331</td>\n",
       "      <td>$167,899</td>\n",
       "      <td>3 bds</td>\n",
       "      <td>3 bds</td>\n",
       "      <td>3 bds</td>\n",
       "    </tr>\n",
       "    <tr>\n",
       "      <th>38</th>\n",
       "      <td>1463 La France St NE APT 12, Atlanta, GA 30307</td>\n",
       "      <td>$550,000</td>\n",
       "      <td>3 bds</td>\n",
       "      <td>3 bds</td>\n",
       "      <td>3 bds</td>\n",
       "    </tr>\n",
       "    <tr>\n",
       "      <th>39</th>\n",
       "      <td>1185 Arlington Ave SW, Atlanta, GA 30310</td>\n",
       "      <td>$155,000</td>\n",
       "      <td>3 bds</td>\n",
       "      <td>3 bds</td>\n",
       "      <td>3 bds</td>\n",
       "    </tr>\n",
       "  </tbody>\n",
       "</table>\n",
       "</div>"
      ],
      "text/plain": [
       "                                             Title     Price   Beds  Baths  \\\n",
       "35          1692 Sandtown Rd SW, Atlanta, GA 30311  $179,900  3 bds  3 bds   \n",
       "36       938 Rebel Forest Dr SE, Atlanta, GA 30315  $135,000  3 bds  3 bds   \n",
       "37          3380 Oakcliff Rd NW, Atlanta, GA 30331  $167,899  3 bds  3 bds   \n",
       "38  1463 La France St NE APT 12, Atlanta, GA 30307  $550,000  3 bds  3 bds   \n",
       "39        1185 Arlington Ave SW, Atlanta, GA 30310  $155,000  3 bds  3 bds   \n",
       "\n",
       "     Area  \n",
       "35  3 bds  \n",
       "36  3 bds  \n",
       "37  3 bds  \n",
       "38  3 bds  \n",
       "39  3 bds  "
      ]
     },
     "execution_count": 23,
     "metadata": {},
     "output_type": "execute_result"
    }
   ],
   "source": [
    "# select last 5 rows\n",
    "atl_addr.iloc[-5:]"
   ]
  },
  {
   "cell_type": "code",
   "execution_count": 31,
   "metadata": {},
   "outputs": [
    {
     "data": {
      "text/html": [
       "<div>\n",
       "<style scoped>\n",
       "    .dataframe tbody tr th:only-of-type {\n",
       "        vertical-align: middle;\n",
       "    }\n",
       "\n",
       "    .dataframe tbody tr th {\n",
       "        vertical-align: top;\n",
       "    }\n",
       "\n",
       "    .dataframe thead th {\n",
       "        text-align: right;\n",
       "    }\n",
       "</style>\n",
       "<table border=\"1\" class=\"dataframe\">\n",
       "  <thead>\n",
       "    <tr style=\"text-align: right;\">\n",
       "      <th></th>\n",
       "      <th>Price</th>\n",
       "      <th>Baths</th>\n",
       "    </tr>\n",
       "  </thead>\n",
       "  <tbody>\n",
       "    <tr>\n",
       "      <th>0</th>\n",
       "      <td>$1,495,000</td>\n",
       "      <td>4 ba</td>\n",
       "    </tr>\n",
       "    <tr>\n",
       "      <th>1</th>\n",
       "      <td>$225,000</td>\n",
       "      <td>2 ba</td>\n",
       "    </tr>\n",
       "    <tr>\n",
       "      <th>2</th>\n",
       "      <td>$259,000</td>\n",
       "      <td>2 ba</td>\n",
       "    </tr>\n",
       "    <tr>\n",
       "      <th>3</th>\n",
       "      <td>$320,000</td>\n",
       "      <td>1 ba</td>\n",
       "    </tr>\n",
       "    <tr>\n",
       "      <th>4</th>\n",
       "      <td>$349,275</td>\n",
       "      <td>3 ba</td>\n",
       "    </tr>\n",
       "  </tbody>\n",
       "</table>\n",
       "</div>"
      ],
      "text/plain": [
       "        Price Baths\n",
       "0  $1,495,000  4 ba\n",
       "1    $225,000  2 ba\n",
       "2    $259,000  2 ba\n",
       "3    $320,000  1 ba\n",
       "4    $349,275  3 ba"
      ]
     },
     "execution_count": 31,
     "metadata": {},
     "output_type": "execute_result"
    }
   ],
   "source": [
    "# select part of the dataframe\n",
    "atl_addr.iloc[:5, [1, 3]]"
   ]
  },
  {
   "cell_type": "markdown",
   "metadata": {},
   "source": [
    "### label-based selection, loc:"
   ]
  },
  {
   "cell_type": "code",
   "execution_count": 25,
   "metadata": {},
   "outputs": [
    {
     "data": {
      "text/plain": [
       "'2060 Shirley St SW, Atlanta, GA 30311'"
      ]
     },
     "execution_count": 25,
     "metadata": {},
     "output_type": "execute_result"
    }
   ],
   "source": [
    "# second value under 'Title' column, \n",
    "atl_addr.loc[1, 'Title']"
   ]
  },
  {
   "cell_type": "code",
   "execution_count": 28,
   "metadata": {},
   "outputs": [
    {
     "data": {
      "text/html": [
       "<div>\n",
       "<style scoped>\n",
       "    .dataframe tbody tr th:only-of-type {\n",
       "        vertical-align: middle;\n",
       "    }\n",
       "\n",
       "    .dataframe tbody tr th {\n",
       "        vertical-align: top;\n",
       "    }\n",
       "\n",
       "    .dataframe thead th {\n",
       "        text-align: right;\n",
       "    }\n",
       "</style>\n",
       "<table border=\"1\" class=\"dataframe\">\n",
       "  <thead>\n",
       "    <tr style=\"text-align: right;\">\n",
       "      <th></th>\n",
       "      <th>Price</th>\n",
       "      <th>Area</th>\n",
       "    </tr>\n",
       "  </thead>\n",
       "  <tbody>\n",
       "    <tr>\n",
       "      <th>0</th>\n",
       "      <td>$1,495,000</td>\n",
       "      <td>3,644 sqft</td>\n",
       "    </tr>\n",
       "    <tr>\n",
       "      <th>1</th>\n",
       "      <td>$225,000</td>\n",
       "      <td>1,300 sqft</td>\n",
       "    </tr>\n",
       "    <tr>\n",
       "      <th>2</th>\n",
       "      <td>$259,000</td>\n",
       "      <td>890 sqft</td>\n",
       "    </tr>\n",
       "    <tr>\n",
       "      <th>3</th>\n",
       "      <td>$320,000</td>\n",
       "      <td>1,163 sqft</td>\n",
       "    </tr>\n",
       "    <tr>\n",
       "      <th>4</th>\n",
       "      <td>$349,275</td>\n",
       "      <td>-- sqft</td>\n",
       "    </tr>\n",
       "    <tr>\n",
       "      <th>5</th>\n",
       "      <td>$284,900</td>\n",
       "      <td>-- sqft</td>\n",
       "    </tr>\n",
       "  </tbody>\n",
       "</table>\n",
       "</div>"
      ],
      "text/plain": [
       "        Price        Area\n",
       "0  $1,495,000  3,644 sqft\n",
       "1    $225,000  1,300 sqft\n",
       "2    $259,000    890 sqft\n",
       "3    $320,000  1,163 sqft\n",
       "4    $349,275     -- sqft\n",
       "5    $284,900     -- sqft"
      ]
     },
     "execution_count": 28,
     "metadata": {},
     "output_type": "execute_result"
    }
   ],
   "source": [
    "# select part of the dataframe\n",
    "atl_addr.loc[:5, ['Price', 'Area']]"
   ]
  },
  {
   "cell_type": "markdown",
   "metadata": {},
   "source": [
    "### Choosing between loc and iloc:\n",
    "**iloc:** 0 : 10, select 0 to 9, last one excluded<br>\n",
    "**loc:** 0 : 10, select 0 to 10, last one included"
   ]
  },
  {
   "cell_type": "markdown",
   "metadata": {},
   "source": [
    "## Manipulating the index\n"
   ]
  },
  {
   "cell_type": "code",
   "execution_count": 44,
   "metadata": {},
   "outputs": [
    {
     "data": {
      "text/html": [
       "<div>\n",
       "<style scoped>\n",
       "    .dataframe tbody tr th:only-of-type {\n",
       "        vertical-align: middle;\n",
       "    }\n",
       "\n",
       "    .dataframe tbody tr th {\n",
       "        vertical-align: top;\n",
       "    }\n",
       "\n",
       "    .dataframe thead th {\n",
       "        text-align: right;\n",
       "    }\n",
       "</style>\n",
       "<table border=\"1\" class=\"dataframe\">\n",
       "  <thead>\n",
       "    <tr style=\"text-align: right;\">\n",
       "      <th></th>\n",
       "      <th>Title</th>\n",
       "      <th>Beds</th>\n",
       "      <th>Baths</th>\n",
       "      <th>Area</th>\n",
       "    </tr>\n",
       "    <tr>\n",
       "      <th>Price</th>\n",
       "      <th></th>\n",
       "      <th></th>\n",
       "      <th></th>\n",
       "      <th></th>\n",
       "    </tr>\n",
       "  </thead>\n",
       "  <tbody>\n",
       "    <tr>\n",
       "      <th>$1,495,000</th>\n",
       "      <td>34 The Prado NE, Atlanta, GA 30309</td>\n",
       "      <td>4 bds</td>\n",
       "      <td>4 ba</td>\n",
       "      <td>3,644 sqft</td>\n",
       "    </tr>\n",
       "    <tr>\n",
       "      <th>$225,000</th>\n",
       "      <td>2060 Shirley St SW, Atlanta, GA 30311</td>\n",
       "      <td>3 bds</td>\n",
       "      <td>2 ba</td>\n",
       "      <td>1,300 sqft</td>\n",
       "    </tr>\n",
       "    <tr>\n",
       "      <th>$259,000</th>\n",
       "      <td>300 Peachtree St NE APT 11G, Atlanta, GA 30308</td>\n",
       "      <td>2 bds</td>\n",
       "      <td>2 ba</td>\n",
       "      <td>890 sqft</td>\n",
       "    </tr>\n",
       "    <tr>\n",
       "      <th>$320,000</th>\n",
       "      <td>1690 Memorial Dr SE, Atlanta, GA 30317</td>\n",
       "      <td>2 bds</td>\n",
       "      <td>1 ba</td>\n",
       "      <td>1,163 sqft</td>\n",
       "    </tr>\n",
       "    <tr>\n",
       "      <th>$349,275</th>\n",
       "      <td>6253 Old Kingston Dr, South Fulton, GA</td>\n",
       "      <td>5 bds</td>\n",
       "      <td>3 ba</td>\n",
       "      <td>-- sqft</td>\n",
       "    </tr>\n",
       "  </tbody>\n",
       "</table>\n",
       "</div>"
      ],
      "text/plain": [
       "                                                     Title   Beds Baths  \\\n",
       "Price                                                                     \n",
       "$1,495,000              34 The Prado NE, Atlanta, GA 30309  4 bds  4 ba   \n",
       "$225,000             2060 Shirley St SW, Atlanta, GA 30311  3 bds  2 ba   \n",
       "$259,000    300 Peachtree St NE APT 11G, Atlanta, GA 30308  2 bds  2 ba   \n",
       "$320,000            1690 Memorial Dr SE, Atlanta, GA 30317  2 bds  1 ba   \n",
       "$349,275            6253 Old Kingston Dr, South Fulton, GA  5 bds  3 ba   \n",
       "\n",
       "                  Area  \n",
       "Price                   \n",
       "$1,495,000  3,644 sqft  \n",
       "$225,000    1,300 sqft  \n",
       "$259,000      890 sqft  \n",
       "$320,000    1,163 sqft  \n",
       "$349,275       -- sqft  "
      ]
     },
     "execution_count": 44,
     "metadata": {},
     "output_type": "execute_result"
    }
   ],
   "source": [
    "# set one of the column as row labels(index)\n",
    "atl_addr.set_index(\"Price\").head()"
   ]
  },
  {
   "cell_type": "markdown",
   "metadata": {},
   "source": [
    "## Conditional selection"
   ]
  },
  {
   "cell_type": "code",
   "execution_count": 53,
   "metadata": {},
   "outputs": [
    {
     "data": {
      "text/plain": [
       "0      True\n",
       "1     False\n",
       "2     False\n",
       "3     False\n",
       "4     False\n",
       "5     False\n",
       "6     False\n",
       "7     False\n",
       "8      True\n",
       "9     False\n",
       "10    False\n",
       "11    False\n",
       "12    False\n",
       "13    False\n",
       "14    False\n",
       "15     True\n",
       "16    False\n",
       "17    False\n",
       "18     True\n",
       "19     True\n",
       "20    False\n",
       "21    False\n",
       "22    False\n",
       "23    False\n",
       "24    False\n",
       "25    False\n",
       "26    False\n",
       "27    False\n",
       "28    False\n",
       "29     True\n",
       "30    False\n",
       "31    False\n",
       "32    False\n",
       "33    False\n",
       "34    False\n",
       "35    False\n",
       "36    False\n",
       "37    False\n",
       "38    False\n",
       "39    False\n",
       "Name: Beds, dtype: bool"
      ]
     },
     "execution_count": 53,
     "metadata": {},
     "output_type": "execute_result"
    }
   ],
   "source": [
    "# check if each room has 4 bds\n",
    "atl_addr.Beds == \"4 bds\""
   ]
  },
  {
   "cell_type": "code",
   "execution_count": 54,
   "metadata": {},
   "outputs": [
    {
     "data": {
      "text/html": [
       "<div>\n",
       "<style scoped>\n",
       "    .dataframe tbody tr th:only-of-type {\n",
       "        vertical-align: middle;\n",
       "    }\n",
       "\n",
       "    .dataframe tbody tr th {\n",
       "        vertical-align: top;\n",
       "    }\n",
       "\n",
       "    .dataframe thead th {\n",
       "        text-align: right;\n",
       "    }\n",
       "</style>\n",
       "<table border=\"1\" class=\"dataframe\">\n",
       "  <thead>\n",
       "    <tr style=\"text-align: right;\">\n",
       "      <th></th>\n",
       "      <th>Title</th>\n",
       "      <th>Price</th>\n",
       "      <th>Beds</th>\n",
       "      <th>Baths</th>\n",
       "      <th>Area</th>\n",
       "    </tr>\n",
       "  </thead>\n",
       "  <tbody>\n",
       "    <tr>\n",
       "      <th>0</th>\n",
       "      <td>34 The Prado NE, Atlanta, GA 30309</td>\n",
       "      <td>$1,495,000</td>\n",
       "      <td>4 bds</td>\n",
       "      <td>4 ba</td>\n",
       "      <td>3,644 sqft</td>\n",
       "    </tr>\n",
       "    <tr>\n",
       "      <th>8</th>\n",
       "      <td>175 Wynfield Way SW, Atlanta, GA 30331</td>\n",
       "      <td>$457,900</td>\n",
       "      <td>4 bds</td>\n",
       "      <td>4 ba</td>\n",
       "      <td>3,624 sqft</td>\n",
       "    </tr>\n",
       "    <tr>\n",
       "      <th>15</th>\n",
       "      <td>3502 Redwine Pkwy SW, Atlanta, GA 30331</td>\n",
       "      <td>$270,000</td>\n",
       "      <td>4 bds</td>\n",
       "      <td>3 ba</td>\n",
       "      <td>2,490 sqft</td>\n",
       "    </tr>\n",
       "    <tr>\n",
       "      <th>18</th>\n",
       "      <td>1149 Mobile St NW, Atlanta, GA 30314</td>\n",
       "      <td>$260,000</td>\n",
       "      <td>4 bds</td>\n",
       "      <td>2 ba</td>\n",
       "      <td>1,627 sqft</td>\n",
       "    </tr>\n",
       "    <tr>\n",
       "      <th>19</th>\n",
       "      <td>1488 Sandrock Ln SW, Atlanta, GA 30331</td>\n",
       "      <td>$272,900</td>\n",
       "      <td>4 bds</td>\n",
       "      <td>3 ba</td>\n",
       "      <td>2,786 sqft</td>\n",
       "    </tr>\n",
       "    <tr>\n",
       "      <th>29</th>\n",
       "      <td>2363 NW 2363 Cross St, Atlanta, GA 30318</td>\n",
       "      <td>$249,900</td>\n",
       "      <td>4 bds</td>\n",
       "      <td>4 bds</td>\n",
       "      <td>4 bds</td>\n",
       "    </tr>\n",
       "  </tbody>\n",
       "</table>\n",
       "</div>"
      ],
      "text/plain": [
       "                                       Title       Price   Beds  Baths  \\\n",
       "0         34 The Prado NE, Atlanta, GA 30309  $1,495,000  4 bds   4 ba   \n",
       "8     175 Wynfield Way SW, Atlanta, GA 30331    $457,900  4 bds   4 ba   \n",
       "15   3502 Redwine Pkwy SW, Atlanta, GA 30331    $270,000  4 bds   3 ba   \n",
       "18      1149 Mobile St NW, Atlanta, GA 30314    $260,000  4 bds   2 ba   \n",
       "19    1488 Sandrock Ln SW, Atlanta, GA 30331    $272,900  4 bds   3 ba   \n",
       "29  2363 NW 2363 Cross St, Atlanta, GA 30318    $249,900  4 bds  4 bds   \n",
       "\n",
       "          Area  \n",
       "0   3,644 sqft  \n",
       "8   3,624 sqft  \n",
       "15  2,490 sqft  \n",
       "18  1,627 sqft  \n",
       "19  2,786 sqft  \n",
       "29       4 bds  "
      ]
     },
     "execution_count": 54,
     "metadata": {},
     "output_type": "execute_result"
    }
   ],
   "source": [
    "# filt rows by specific condition\n",
    "atl_addr.loc[atl_addr.Beds == \"4 bds\"]"
   ]
  },
  {
   "cell_type": "code",
   "execution_count": 55,
   "metadata": {},
   "outputs": [
    {
     "data": {
      "text/html": [
       "<div>\n",
       "<style scoped>\n",
       "    .dataframe tbody tr th:only-of-type {\n",
       "        vertical-align: middle;\n",
       "    }\n",
       "\n",
       "    .dataframe tbody tr th {\n",
       "        vertical-align: top;\n",
       "    }\n",
       "\n",
       "    .dataframe thead th {\n",
       "        text-align: right;\n",
       "    }\n",
       "</style>\n",
       "<table border=\"1\" class=\"dataframe\">\n",
       "  <thead>\n",
       "    <tr style=\"text-align: right;\">\n",
       "      <th></th>\n",
       "      <th>Title</th>\n",
       "      <th>Price</th>\n",
       "      <th>Beds</th>\n",
       "      <th>Baths</th>\n",
       "      <th>Area</th>\n",
       "    </tr>\n",
       "  </thead>\n",
       "  <tbody>\n",
       "    <tr>\n",
       "      <th>15</th>\n",
       "      <td>3502 Redwine Pkwy SW, Atlanta, GA 30331</td>\n",
       "      <td>$270,000</td>\n",
       "      <td>4 bds</td>\n",
       "      <td>3 ba</td>\n",
       "      <td>2,490 sqft</td>\n",
       "    </tr>\n",
       "    <tr>\n",
       "      <th>19</th>\n",
       "      <td>1488 Sandrock Ln SW, Atlanta, GA 30331</td>\n",
       "      <td>$272,900</td>\n",
       "      <td>4 bds</td>\n",
       "      <td>3 ba</td>\n",
       "      <td>2,786 sqft</td>\n",
       "    </tr>\n",
       "  </tbody>\n",
       "</table>\n",
       "</div>"
      ],
      "text/plain": [
       "                                      Title     Price   Beds Baths        Area\n",
       "15  3502 Redwine Pkwy SW, Atlanta, GA 30331  $270,000  4 bds  3 ba  2,490 sqft\n",
       "19   1488 Sandrock Ln SW, Atlanta, GA 30331  $272,900  4 bds  3 ba  2,786 sqft"
      ]
     },
     "execution_count": 55,
     "metadata": {},
     "output_type": "execute_result"
    }
   ],
   "source": [
    "# select row with double conditions, using \"&\"\n",
    "atl_addr.loc[(atl_addr.Beds == \"4 bds\") & (atl_addr.Baths == \"3 ba\")]"
   ]
  },
  {
   "cell_type": "code",
   "execution_count": 61,
   "metadata": {},
   "outputs": [
    {
     "data": {
      "text/html": [
       "<div>\n",
       "<style scoped>\n",
       "    .dataframe tbody tr th:only-of-type {\n",
       "        vertical-align: middle;\n",
       "    }\n",
       "\n",
       "    .dataframe tbody tr th {\n",
       "        vertical-align: top;\n",
       "    }\n",
       "\n",
       "    .dataframe thead th {\n",
       "        text-align: right;\n",
       "    }\n",
       "</style>\n",
       "<table border=\"1\" class=\"dataframe\">\n",
       "  <thead>\n",
       "    <tr style=\"text-align: right;\">\n",
       "      <th></th>\n",
       "      <th>Title</th>\n",
       "      <th>Price</th>\n",
       "      <th>Beds</th>\n",
       "      <th>Baths</th>\n",
       "      <th>Area</th>\n",
       "    </tr>\n",
       "  </thead>\n",
       "  <tbody>\n",
       "    <tr>\n",
       "      <th>0</th>\n",
       "      <td>34 The Prado NE, Atlanta, GA 30309</td>\n",
       "      <td>$1,495,000</td>\n",
       "      <td>4 bds</td>\n",
       "      <td>4 ba</td>\n",
       "      <td>3,644 sqft</td>\n",
       "    </tr>\n",
       "    <tr>\n",
       "      <th>4</th>\n",
       "      <td>6253 Old Kingston Dr, South Fulton, GA</td>\n",
       "      <td>$349,275</td>\n",
       "      <td>5 bds</td>\n",
       "      <td>3 ba</td>\n",
       "      <td>-- sqft</td>\n",
       "    </tr>\n",
       "    <tr>\n",
       "      <th>6</th>\n",
       "      <td>6253 Old Kingston Dr # 37, Atlanta, GA 30331</td>\n",
       "      <td>$349,275</td>\n",
       "      <td>5 bds</td>\n",
       "      <td>3 ba</td>\n",
       "      <td>-- sqft</td>\n",
       "    </tr>\n",
       "    <tr>\n",
       "      <th>8</th>\n",
       "      <td>175 Wynfield Way SW, Atlanta, GA 30331</td>\n",
       "      <td>$457,900</td>\n",
       "      <td>4 bds</td>\n",
       "      <td>4 ba</td>\n",
       "      <td>3,624 sqft</td>\n",
       "    </tr>\n",
       "    <tr>\n",
       "      <th>15</th>\n",
       "      <td>3502 Redwine Pkwy SW, Atlanta, GA 30331</td>\n",
       "      <td>$270,000</td>\n",
       "      <td>4 bds</td>\n",
       "      <td>3 ba</td>\n",
       "      <td>2,490 sqft</td>\n",
       "    </tr>\n",
       "    <tr>\n",
       "      <th>18</th>\n",
       "      <td>1149 Mobile St NW, Atlanta, GA 30314</td>\n",
       "      <td>$260,000</td>\n",
       "      <td>4 bds</td>\n",
       "      <td>2 ba</td>\n",
       "      <td>1,627 sqft</td>\n",
       "    </tr>\n",
       "    <tr>\n",
       "      <th>19</th>\n",
       "      <td>1488 Sandrock Ln SW, Atlanta, GA 30331</td>\n",
       "      <td>$272,900</td>\n",
       "      <td>4 bds</td>\n",
       "      <td>3 ba</td>\n",
       "      <td>2,786 sqft</td>\n",
       "    </tr>\n",
       "    <tr>\n",
       "      <th>29</th>\n",
       "      <td>2363 NW 2363 Cross St, Atlanta, GA 30318</td>\n",
       "      <td>$249,900</td>\n",
       "      <td>4 bds</td>\n",
       "      <td>4 bds</td>\n",
       "      <td>4 bds</td>\n",
       "    </tr>\n",
       "  </tbody>\n",
       "</table>\n",
       "</div>"
      ],
      "text/plain": [
       "                                           Title       Price   Beds  Baths  \\\n",
       "0             34 The Prado NE, Atlanta, GA 30309  $1,495,000  4 bds   4 ba   \n",
       "4         6253 Old Kingston Dr, South Fulton, GA    $349,275  5 bds   3 ba   \n",
       "6   6253 Old Kingston Dr # 37, Atlanta, GA 30331    $349,275  5 bds   3 ba   \n",
       "8         175 Wynfield Way SW, Atlanta, GA 30331    $457,900  4 bds   4 ba   \n",
       "15       3502 Redwine Pkwy SW, Atlanta, GA 30331    $270,000  4 bds   3 ba   \n",
       "18          1149 Mobile St NW, Atlanta, GA 30314    $260,000  4 bds   2 ba   \n",
       "19        1488 Sandrock Ln SW, Atlanta, GA 30331    $272,900  4 bds   3 ba   \n",
       "29      2363 NW 2363 Cross St, Atlanta, GA 30318    $249,900  4 bds  4 bds   \n",
       "\n",
       "          Area  \n",
       "0   3,644 sqft  \n",
       "4      -- sqft  \n",
       "6      -- sqft  \n",
       "8   3,624 sqft  \n",
       "15  2,490 sqft  \n",
       "18  1,627 sqft  \n",
       "19  2,786 sqft  \n",
       "29       4 bds  "
      ]
     },
     "execution_count": 61,
     "metadata": {},
     "output_type": "execute_result"
    }
   ],
   "source": [
    "# select rows that satisfy one of the conditions, usgin \"|\"\n",
    "atl_addr.loc[(atl_addr.Beds == \"4 bds\") | (atl_addr.Baths == \"3 ba\")]"
   ]
  },
  {
   "cell_type": "markdown",
   "metadata": {},
   "source": [
    "Pandas comes with a few built-in conditional selectors, two of which we will highlight here.\n",
    "1. **isin**: select data whose value \"is in\" a list of values.<br>\n",
    "2. **isnull / notnull**: highlight values which are (or are not) empty (NaN)\n"
   ]
  },
  {
   "cell_type": "code",
   "execution_count": 68,
   "metadata": {},
   "outputs": [
    {
     "data": {
      "text/html": [
       "<div>\n",
       "<style scoped>\n",
       "    .dataframe tbody tr th:only-of-type {\n",
       "        vertical-align: middle;\n",
       "    }\n",
       "\n",
       "    .dataframe tbody tr th {\n",
       "        vertical-align: top;\n",
       "    }\n",
       "\n",
       "    .dataframe thead th {\n",
       "        text-align: right;\n",
       "    }\n",
       "</style>\n",
       "<table border=\"1\" class=\"dataframe\">\n",
       "  <thead>\n",
       "    <tr style=\"text-align: right;\">\n",
       "      <th></th>\n",
       "      <th>Title</th>\n",
       "      <th>Price</th>\n",
       "      <th>Beds</th>\n",
       "      <th>Baths</th>\n",
       "      <th>Area</th>\n",
       "    </tr>\n",
       "  </thead>\n",
       "  <tbody>\n",
       "    <tr>\n",
       "      <th>0</th>\n",
       "      <td>34 The Prado NE, Atlanta, GA 30309</td>\n",
       "      <td>$1,495,000</td>\n",
       "      <td>4 bds</td>\n",
       "      <td>4 ba</td>\n",
       "      <td>3,644 sqft</td>\n",
       "    </tr>\n",
       "    <tr>\n",
       "      <th>4</th>\n",
       "      <td>6253 Old Kingston Dr, South Fulton, GA</td>\n",
       "      <td>$349,275</td>\n",
       "      <td>5 bds</td>\n",
       "      <td>3 ba</td>\n",
       "      <td>-- sqft</td>\n",
       "    </tr>\n",
       "    <tr>\n",
       "      <th>6</th>\n",
       "      <td>6253 Old Kingston Dr # 37, Atlanta, GA 30331</td>\n",
       "      <td>$349,275</td>\n",
       "      <td>5 bds</td>\n",
       "      <td>3 ba</td>\n",
       "      <td>-- sqft</td>\n",
       "    </tr>\n",
       "    <tr>\n",
       "      <th>8</th>\n",
       "      <td>175 Wynfield Way SW, Atlanta, GA 30331</td>\n",
       "      <td>$457,900</td>\n",
       "      <td>4 bds</td>\n",
       "      <td>4 ba</td>\n",
       "      <td>3,624 sqft</td>\n",
       "    </tr>\n",
       "    <tr>\n",
       "      <th>9</th>\n",
       "      <td>2973 Margaret Mitchell Ct NW, Atlanta, GA 30327</td>\n",
       "      <td>$1,435,000</td>\n",
       "      <td>5 bds</td>\n",
       "      <td>5 ba</td>\n",
       "      <td>4,483 sqft</td>\n",
       "    </tr>\n",
       "    <tr>\n",
       "      <th>12</th>\n",
       "      <td>2875 Benjamin E Mays Dr SW, Atlanta, GA 30311</td>\n",
       "      <td>$429,000</td>\n",
       "      <td>5 bds</td>\n",
       "      <td>4 ba</td>\n",
       "      <td>2,551 sqft</td>\n",
       "    </tr>\n",
       "    <tr>\n",
       "      <th>15</th>\n",
       "      <td>3502 Redwine Pkwy SW, Atlanta, GA 30331</td>\n",
       "      <td>$270,000</td>\n",
       "      <td>4 bds</td>\n",
       "      <td>3 ba</td>\n",
       "      <td>2,490 sqft</td>\n",
       "    </tr>\n",
       "    <tr>\n",
       "      <th>18</th>\n",
       "      <td>1149 Mobile St NW, Atlanta, GA 30314</td>\n",
       "      <td>$260,000</td>\n",
       "      <td>4 bds</td>\n",
       "      <td>2 ba</td>\n",
       "      <td>1,627 sqft</td>\n",
       "    </tr>\n",
       "  </tbody>\n",
       "</table>\n",
       "</div>"
      ],
      "text/plain": [
       "                                              Title       Price   Beds Baths  \\\n",
       "0                34 The Prado NE, Atlanta, GA 30309  $1,495,000  4 bds  4 ba   \n",
       "4            6253 Old Kingston Dr, South Fulton, GA    $349,275  5 bds  3 ba   \n",
       "6      6253 Old Kingston Dr # 37, Atlanta, GA 30331    $349,275  5 bds  3 ba   \n",
       "8            175 Wynfield Way SW, Atlanta, GA 30331    $457,900  4 bds  4 ba   \n",
       "9   2973 Margaret Mitchell Ct NW, Atlanta, GA 30327  $1,435,000  5 bds  5 ba   \n",
       "12    2875 Benjamin E Mays Dr SW, Atlanta, GA 30311    $429,000  5 bds  4 ba   \n",
       "15          3502 Redwine Pkwy SW, Atlanta, GA 30331    $270,000  4 bds  3 ba   \n",
       "18             1149 Mobile St NW, Atlanta, GA 30314    $260,000  4 bds  2 ba   \n",
       "\n",
       "          Area  \n",
       "0   3,644 sqft  \n",
       "4      -- sqft  \n",
       "6      -- sqft  \n",
       "8   3,624 sqft  \n",
       "9   4,483 sqft  \n",
       "12  2,551 sqft  \n",
       "15  2,490 sqft  \n",
       "18  1,627 sqft  "
      ]
     },
     "execution_count": 68,
     "metadata": {},
     "output_type": "execute_result"
    }
   ],
   "source": [
    "# using isin filt rows with 4 or 5 bedrooms, print selected first 8 rows\n",
    "atl_addr.loc[atl_addr.Beds.isin([\"5 bds\", \"4 bds\"])].head(8)"
   ]
  },
  {
   "cell_type": "code",
   "execution_count": 72,
   "metadata": {},
   "outputs": [
    {
     "data": {
      "text/html": [
       "<div>\n",
       "<style scoped>\n",
       "    .dataframe tbody tr th:only-of-type {\n",
       "        vertical-align: middle;\n",
       "    }\n",
       "\n",
       "    .dataframe tbody tr th {\n",
       "        vertical-align: top;\n",
       "    }\n",
       "\n",
       "    .dataframe thead th {\n",
       "        text-align: right;\n",
       "    }\n",
       "</style>\n",
       "<table border=\"1\" class=\"dataframe\">\n",
       "  <thead>\n",
       "    <tr style=\"text-align: right;\">\n",
       "      <th></th>\n",
       "      <th>Title</th>\n",
       "      <th>Price</th>\n",
       "      <th>Beds</th>\n",
       "      <th>Baths</th>\n",
       "      <th>Area</th>\n",
       "    </tr>\n",
       "  </thead>\n",
       "  <tbody>\n",
       "  </tbody>\n",
       "</table>\n",
       "</div>"
      ],
      "text/plain": [
       "Empty DataFrame\n",
       "Columns: [Title, Price, Beds, Baths, Area]\n",
       "Index: []"
      ]
     },
     "execution_count": 72,
     "metadata": {},
     "output_type": "execute_result"
    }
   ],
   "source": [
    "# select rows with Beds empty(not empty rows here)\n",
    "atl_addr.loc[atl_addr.Beds.isnull()]"
   ]
  },
  {
   "cell_type": "markdown",
   "metadata": {},
   "source": [
    "## Assigning data"
   ]
  },
  {
   "cell_type": "code",
   "execution_count": 76,
   "metadata": {},
   "outputs": [
    {
     "data": {
      "text/html": [
       "<div>\n",
       "<style scoped>\n",
       "    .dataframe tbody tr th:only-of-type {\n",
       "        vertical-align: middle;\n",
       "    }\n",
       "\n",
       "    .dataframe tbody tr th {\n",
       "        vertical-align: top;\n",
       "    }\n",
       "\n",
       "    .dataframe thead th {\n",
       "        text-align: right;\n",
       "    }\n",
       "</style>\n",
       "<table border=\"1\" class=\"dataframe\">\n",
       "  <thead>\n",
       "    <tr style=\"text-align: right;\">\n",
       "      <th></th>\n",
       "      <th>Title</th>\n",
       "      <th>Price</th>\n",
       "      <th>Beds</th>\n",
       "      <th>Baths</th>\n",
       "      <th>Area</th>\n",
       "    </tr>\n",
       "  </thead>\n",
       "  <tbody>\n",
       "    <tr>\n",
       "      <th>0</th>\n",
       "      <td>34 The Prado NE, Atlanta, GA 30309</td>\n",
       "      <td>$1,495,000</td>\n",
       "      <td>4 bds</td>\n",
       "      <td>4 ba</td>\n",
       "      <td>1000</td>\n",
       "    </tr>\n",
       "    <tr>\n",
       "      <th>1</th>\n",
       "      <td>2060 Shirley St SW, Atlanta, GA 30311</td>\n",
       "      <td>$225,000</td>\n",
       "      <td>3 bds</td>\n",
       "      <td>2 ba</td>\n",
       "      <td>1000</td>\n",
       "    </tr>\n",
       "    <tr>\n",
       "      <th>2</th>\n",
       "      <td>300 Peachtree St NE APT 11G, Atlanta, GA 30308</td>\n",
       "      <td>$259,000</td>\n",
       "      <td>2 bds</td>\n",
       "      <td>2 ba</td>\n",
       "      <td>1000</td>\n",
       "    </tr>\n",
       "    <tr>\n",
       "      <th>3</th>\n",
       "      <td>1690 Memorial Dr SE, Atlanta, GA 30317</td>\n",
       "      <td>$320,000</td>\n",
       "      <td>2 bds</td>\n",
       "      <td>1 ba</td>\n",
       "      <td>1000</td>\n",
       "    </tr>\n",
       "    <tr>\n",
       "      <th>4</th>\n",
       "      <td>6253 Old Kingston Dr, South Fulton, GA</td>\n",
       "      <td>$349,275</td>\n",
       "      <td>5 bds</td>\n",
       "      <td>3 ba</td>\n",
       "      <td>1000</td>\n",
       "    </tr>\n",
       "  </tbody>\n",
       "</table>\n",
       "</div>"
      ],
      "text/plain": [
       "                                            Title       Price   Beds Baths  \\\n",
       "0              34 The Prado NE, Atlanta, GA 30309  $1,495,000  4 bds  4 ba   \n",
       "1           2060 Shirley St SW, Atlanta, GA 30311    $225,000  3 bds  2 ba   \n",
       "2  300 Peachtree St NE APT 11G, Atlanta, GA 30308    $259,000  2 bds  2 ba   \n",
       "3          1690 Memorial Dr SE, Atlanta, GA 30317    $320,000  2 bds  1 ba   \n",
       "4          6253 Old Kingston Dr, South Fulton, GA    $349,275  5 bds  3 ba   \n",
       "\n",
       "   Area  \n",
       "0  1000  \n",
       "1  1000  \n",
       "2  1000  \n",
       "3  1000  \n",
       "4  1000  "
      ]
     },
     "execution_count": 76,
     "metadata": {},
     "output_type": "execute_result"
    }
   ],
   "source": [
    "# assign a certain value to a column\n",
    "atl_addr['Area'] = 1000\n",
    "atl_addr.head()"
   ]
  },
  {
   "cell_type": "code",
   "execution_count": 81,
   "metadata": {},
   "outputs": [
    {
     "data": {
      "text/plain": [
       "0    40\n",
       "1    39\n",
       "2    38\n",
       "3    37\n",
       "4    36\n",
       "Name: Area, dtype: int32"
      ]
     },
     "execution_count": 81,
     "metadata": {},
     "output_type": "execute_result"
    }
   ],
   "source": [
    "# assign an iterable of values\n",
    "atl_addr[\"Area\"] = range(len(atl_addr), 0, -1)\n",
    "atl_addr.Area.head()"
   ]
  }
 ],
 "metadata": {
  "kernelspec": {
   "display_name": "Python 3.7.3 64-bit ('base': conda)",
   "language": "python",
   "name": "python37364bitbaseconda02e1cef8e882440296af9c0b35ad3d8f"
  },
  "language_info": {
   "codemirror_mode": {
    "name": "ipython",
    "version": 3
   },
   "file_extension": ".py",
   "mimetype": "text/x-python",
   "name": "python",
   "nbconvert_exporter": "python",
   "pygments_lexer": "ipython3",
   "version": "3.7.3"
  }
 },
 "nbformat": 4,
 "nbformat_minor": 2
}
