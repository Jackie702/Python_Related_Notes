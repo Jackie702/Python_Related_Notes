{
 "cells": [
  {
   "cell_type": "markdown",
   "metadata": {},
   "source": [
    "# Data Types and Missing Values"
   ]
  },
  {
   "cell_type": "code",
   "execution_count": 34,
   "metadata": {},
   "outputs": [
    {
     "data": {
      "text/html": [
       "<div>\n",
       "<style scoped>\n",
       "    .dataframe tbody tr th:only-of-type {\n",
       "        vertical-align: middle;\n",
       "    }\n",
       "\n",
       "    .dataframe tbody tr th {\n",
       "        vertical-align: top;\n",
       "    }\n",
       "\n",
       "    .dataframe thead th {\n",
       "        text-align: right;\n",
       "    }\n",
       "</style>\n",
       "<table border=\"1\" class=\"dataframe\">\n",
       "  <thead>\n",
       "    <tr style=\"text-align: right;\">\n",
       "      <th></th>\n",
       "      <th>Title</th>\n",
       "      <th>Price</th>\n",
       "      <th>Beds</th>\n",
       "      <th>Baths</th>\n",
       "      <th>Area</th>\n",
       "    </tr>\n",
       "  </thead>\n",
       "  <tbody>\n",
       "    <tr>\n",
       "      <th>0</th>\n",
       "      <td>34 The Prado NE, Atlanta, GA 30309</td>\n",
       "      <td>1495000</td>\n",
       "      <td>4</td>\n",
       "      <td>4</td>\n",
       "      <td>3,644 sqft</td>\n",
       "    </tr>\n",
       "    <tr>\n",
       "      <th>1</th>\n",
       "      <td>2060 Shirley St SW, Atlanta, GA 30311</td>\n",
       "      <td>225000</td>\n",
       "      <td>3</td>\n",
       "      <td>2</td>\n",
       "      <td>1,300 sqft</td>\n",
       "    </tr>\n",
       "    <tr>\n",
       "      <th>2</th>\n",
       "      <td>300 Peachtree St NE APT 11G, Atlanta, GA 30308</td>\n",
       "      <td>259000</td>\n",
       "      <td>2</td>\n",
       "      <td>2</td>\n",
       "      <td>890 sqft</td>\n",
       "    </tr>\n",
       "    <tr>\n",
       "      <th>3</th>\n",
       "      <td>1690 Memorial Dr SE, Atlanta, GA 30317</td>\n",
       "      <td>320000</td>\n",
       "      <td>2</td>\n",
       "      <td>1</td>\n",
       "      <td>1,163 sqft</td>\n",
       "    </tr>\n",
       "    <tr>\n",
       "      <th>4</th>\n",
       "      <td>6253 Old Kingston Dr, South Fulton, GA</td>\n",
       "      <td>349275</td>\n",
       "      <td>5</td>\n",
       "      <td>3</td>\n",
       "      <td>-- sqft</td>\n",
       "    </tr>\n",
       "  </tbody>\n",
       "</table>\n",
       "</div>"
      ],
      "text/plain": [
       "                                            Title    Price Beds Baths  \\\n",
       "0              34 The Prado NE, Atlanta, GA 30309  1495000    4     4   \n",
       "1           2060 Shirley St SW, Atlanta, GA 30311   225000    3     2   \n",
       "2  300 Peachtree St NE APT 11G, Atlanta, GA 30308   259000    2     2   \n",
       "3          1690 Memorial Dr SE, Atlanta, GA 30317   320000    2     1   \n",
       "4          6253 Old Kingston Dr, South Fulton, GA   349275    5     3   \n",
       "\n",
       "         Area  \n",
       "0  3,644 sqft  \n",
       "1  1,300 sqft  \n",
       "2    890 sqft  \n",
       "3  1,163 sqft  \n",
       "4     -- sqft  "
      ]
     },
     "execution_count": 34,
     "metadata": {},
     "output_type": "execute_result"
    }
   ],
   "source": [
    "import pandas as pd\n",
    "\n",
    "def currency_to_int(curr):\n",
    "    curr_list = curr[1:].split(\",\")\n",
    "    price = int(\"\".join(curr_list))\n",
    "    return price\n",
    "\n",
    "def trans_rooms_to_int(entry):\n",
    "    return int(entry.split(\" \")[0])\n",
    "\n",
    "# transform prices\n",
    "atl_addr = pd.read_csv(\"./atl-address-1.csv\")\n",
    "for i in range(len(atl_addr)):\n",
    "    atl_addr.loc[i, \"Price\"] = currency_to_int(atl_addr.loc[i, \"Price\"])\n",
    "    atl_addr.loc[i, \"Beds\"] = trans_rooms_to_int(atl_addr.loc[i, \"Beds\"])\n",
    "    atl_addr.loc[i, \"Baths\"] = trans_rooms_to_int(atl_addr.loc[i, \"Baths\"])\n",
    "       \n",
    "atl_addr.head()"
   ]
  },
  {
   "cell_type": "markdown",
   "metadata": {},
   "source": [
    "## Data types(dtype)\n",
    "You can use the dtype property to grab the type of a specific column."
   ]
  },
  {
   "cell_type": "code",
   "execution_count": 35,
   "metadata": {},
   "outputs": [
    {
     "data": {
      "text/plain": [
       "Title    object\n",
       "Price    object\n",
       "Beds     object\n",
       "Baths    object\n",
       "Area     object\n",
       "dtype: object"
      ]
     },
     "execution_count": 35,
     "metadata": {},
     "output_type": "execute_result"
    }
   ],
   "source": [
    "# dtypes property returns the dtype of every column in the DataFrame:\n",
    "atl_addr.dtypes"
   ]
  },
  {
   "cell_type": "code",
   "execution_count": 36,
   "metadata": {},
   "outputs": [
    {
     "data": {
      "text/plain": [
       "dtype('O')"
      ]
     },
     "execution_count": 36,
     "metadata": {},
     "output_type": "execute_result"
    }
   ],
   "source": [
    "# dtype grab the type of a specific column\n",
    "atl_addr.Baths.dtypes"
   ]
  },
  {
   "cell_type": "markdown",
   "metadata": {},
   "source": [
    "Columns consisting entirely of strings do not get their own type; they are instead given the **object** type."
   ]
  },
  {
   "cell_type": "code",
   "execution_count": 37,
   "metadata": {},
   "outputs": [
    {
     "data": {
      "text/plain": [
       "0    1495000.0\n",
       "1     225000.0\n",
       "2     259000.0\n",
       "3     320000.0\n",
       "4     349275.0\n",
       "Name: Price, dtype: float64"
      ]
     },
     "execution_count": 37,
     "metadata": {},
     "output_type": "execute_result"
    }
   ],
   "source": [
    "# convert a column of one type into another via astype()\n",
    "atl_addr.Price.astype(\"float64\").head(5)"
   ]
  },
  {
   "cell_type": "code",
   "execution_count": 38,
   "metadata": {},
   "outputs": [
    {
     "data": {
      "text/plain": [
       "dtype('int64')"
      ]
     },
     "execution_count": 38,
     "metadata": {},
     "output_type": "execute_result"
    }
   ],
   "source": [
    "# dtype of index\n",
    "atl_addr.index.dtype"
   ]
  },
  {
   "cell_type": "markdown",
   "metadata": {},
   "source": [
    "## Missing Data\n",
    "Entries missing values are given the value **NaN**, short for \"Not a Number\". For technical reasons these NaN values are always of the **float64** dtype.<br>\n",
    "To select NaN entries you can use **pd.isnull()** (or its companion **pd.notnull()**)."
   ]
  },
  {
   "cell_type": "code",
   "execution_count": 39,
   "metadata": {},
   "outputs": [
    {
     "data": {
      "text/plain": [
       "0    False\n",
       "1    False\n",
       "2    False\n",
       "3    False\n",
       "4    False\n",
       "Name: Area, dtype: bool"
      ]
     },
     "execution_count": 39,
     "metadata": {},
     "output_type": "execute_result"
    }
   ],
   "source": [
    "# check if there is a NaN entry\n",
    "atl_addr.Area.isnull().head(5)"
   ]
  },
  {
   "cell_type": "code",
   "execution_count": 40,
   "metadata": {},
   "outputs": [
    {
     "data": {
      "text/html": [
       "<div>\n",
       "<style scoped>\n",
       "    .dataframe tbody tr th:only-of-type {\n",
       "        vertical-align: middle;\n",
       "    }\n",
       "\n",
       "    .dataframe tbody tr th {\n",
       "        vertical-align: top;\n",
       "    }\n",
       "\n",
       "    .dataframe thead th {\n",
       "        text-align: right;\n",
       "    }\n",
       "</style>\n",
       "<table border=\"1\" class=\"dataframe\">\n",
       "  <thead>\n",
       "    <tr style=\"text-align: right;\">\n",
       "      <th></th>\n",
       "      <th>Title</th>\n",
       "      <th>Price</th>\n",
       "      <th>Beds</th>\n",
       "      <th>Baths</th>\n",
       "      <th>Area</th>\n",
       "    </tr>\n",
       "  </thead>\n",
       "  <tbody>\n",
       "  </tbody>\n",
       "</table>\n",
       "</div>"
      ],
      "text/plain": [
       "Empty DataFrame\n",
       "Columns: [Title, Price, Beds, Baths, Area]\n",
       "Index: []"
      ]
     },
     "execution_count": 40,
     "metadata": {},
     "output_type": "execute_result"
    }
   ],
   "source": [
    "# selet rows with NaN entries\n",
    "atl_addr[pd.isnull(atl_addr.Baths)]"
   ]
  },
  {
   "cell_type": "code",
   "execution_count": 43,
   "metadata": {},
   "outputs": [
    {
     "data": {
      "text/plain": [
       "16     250000\n",
       "17     199999\n",
       "18     260000\n",
       "19     272900\n",
       "20    Unknown\n",
       "Name: Price, dtype: object"
      ]
     },
     "execution_count": 43,
     "metadata": {},
     "output_type": "execute_result"
    }
   ],
   "source": [
    "# replace NaN values via fillna()\n",
    "atl_addr.loc[20] = [\"2550 Akers Mill Rd SE\", None, None, None, None]  # create a row with NaN data\n",
    "atl_addr.Price.fillna(\"Unknown\").tail(5)  # replace NaN with Unknown"
   ]
  },
  {
   "cell_type": "markdown",
   "metadata": {},
   "source": [
    "Or we could fill each missing value with the first non-null value that appears sometime after the given record in the database. This is known as the **backfill strategy**."
   ]
  },
  {
   "cell_type": "code",
   "execution_count": 51,
   "metadata": {},
   "outputs": [
    {
     "data": {
      "text/plain": [
       "0           4\n",
       "1           3\n",
       "2           2\n",
       "3           2\n",
       "4    TOO MANY\n",
       "5           2\n",
       "6    TOO MANY\n",
       "7           1\n",
       "8           4\n",
       "9    TOO MANY\n",
       "Name: Beds, dtype: object"
      ]
     },
     "execution_count": 51,
     "metadata": {},
     "output_type": "execute_result"
    }
   ],
   "source": [
    "# backfill via replace()\n",
    "atl_addr.Beds.replace(5, \"TOO MANY\").head(10)"
   ]
  }
 ],
 "metadata": {
  "kernelspec": {
   "display_name": "Python 3.7.3 64-bit ('base': conda)",
   "language": "python",
   "name": "python37364bitbaseconda02e1cef8e882440296af9c0b35ad3d8f"
  },
  "language_info": {
   "codemirror_mode": {
    "name": "ipython",
    "version": 3
   },
   "file_extension": ".py",
   "mimetype": "text/x-python",
   "name": "python",
   "nbconvert_exporter": "python",
   "pygments_lexer": "ipython3",
   "version": "3.7.3"
  }
 },
 "nbformat": 4,
 "nbformat_minor": 2
}
