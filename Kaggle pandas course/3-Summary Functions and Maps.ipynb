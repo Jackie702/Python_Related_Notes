{
 "cells": [
  {
   "cell_type": "markdown",
   "metadata": {},
   "source": [
    "# Summary Functions and Maps"
   ]
  },
  {
   "cell_type": "code",
   "execution_count": 3,
   "metadata": {},
   "outputs": [
    {
     "data": {
      "text/html": [
       "<div>\n",
       "<style scoped>\n",
       "    .dataframe tbody tr th:only-of-type {\n",
       "        vertical-align: middle;\n",
       "    }\n",
       "\n",
       "    .dataframe tbody tr th {\n",
       "        vertical-align: top;\n",
       "    }\n",
       "\n",
       "    .dataframe thead th {\n",
       "        text-align: right;\n",
       "    }\n",
       "</style>\n",
       "<table border=\"1\" class=\"dataframe\">\n",
       "  <thead>\n",
       "    <tr style=\"text-align: right;\">\n",
       "      <th></th>\n",
       "      <th>Title</th>\n",
       "      <th>Price</th>\n",
       "      <th>Beds</th>\n",
       "      <th>Baths</th>\n",
       "      <th>Area</th>\n",
       "    </tr>\n",
       "  </thead>\n",
       "  <tbody>\n",
       "    <tr>\n",
       "      <th>0</th>\n",
       "      <td>34 The Prado NE, Atlanta, GA 30309</td>\n",
       "      <td>1495000</td>\n",
       "      <td>4 bds</td>\n",
       "      <td>4 ba</td>\n",
       "      <td>3,644 sqft</td>\n",
       "    </tr>\n",
       "    <tr>\n",
       "      <th>1</th>\n",
       "      <td>2060 Shirley St SW, Atlanta, GA 30311</td>\n",
       "      <td>225000</td>\n",
       "      <td>3 bds</td>\n",
       "      <td>2 ba</td>\n",
       "      <td>1,300 sqft</td>\n",
       "    </tr>\n",
       "    <tr>\n",
       "      <th>2</th>\n",
       "      <td>300 Peachtree St NE APT 11G, Atlanta, GA 30308</td>\n",
       "      <td>259000</td>\n",
       "      <td>2 bds</td>\n",
       "      <td>2 ba</td>\n",
       "      <td>890 sqft</td>\n",
       "    </tr>\n",
       "    <tr>\n",
       "      <th>3</th>\n",
       "      <td>1690 Memorial Dr SE, Atlanta, GA 30317</td>\n",
       "      <td>320000</td>\n",
       "      <td>2 bds</td>\n",
       "      <td>1 ba</td>\n",
       "      <td>1,163 sqft</td>\n",
       "    </tr>\n",
       "    <tr>\n",
       "      <th>4</th>\n",
       "      <td>6253 Old Kingston Dr, South Fulton, GA</td>\n",
       "      <td>349275</td>\n",
       "      <td>5 bds</td>\n",
       "      <td>3 ba</td>\n",
       "      <td>-- sqft</td>\n",
       "    </tr>\n",
       "  </tbody>\n",
       "</table>\n",
       "</div>"
      ],
      "text/plain": [
       "                                            Title    Price   Beds Baths  \\\n",
       "0              34 The Prado NE, Atlanta, GA 30309  1495000  4 bds  4 ba   \n",
       "1           2060 Shirley St SW, Atlanta, GA 30311   225000  3 bds  2 ba   \n",
       "2  300 Peachtree St NE APT 11G, Atlanta, GA 30308   259000  2 bds  2 ba   \n",
       "3          1690 Memorial Dr SE, Atlanta, GA 30317   320000  2 bds  1 ba   \n",
       "4          6253 Old Kingston Dr, South Fulton, GA   349275  5 bds  3 ba   \n",
       "\n",
       "         Area  \n",
       "0  3,644 sqft  \n",
       "1  1,300 sqft  \n",
       "2    890 sqft  \n",
       "3  1,163 sqft  \n",
       "4     -- sqft  "
      ]
     },
     "execution_count": 3,
     "metadata": {},
     "output_type": "execute_result"
    }
   ],
   "source": [
    "import pandas as pd\n",
    "\n",
    "def currency_to_int(curr):\n",
    "    curr_list = curr[1:].split(\",\")\n",
    "    price = int(\"\".join(curr_list))\n",
    "    return price\n",
    "\n",
    "# transform prices\n",
    "atl_addr = pd.read_csv(\"./atl-address-1.csv\")\n",
    "for i in range(len(atl_addr)):\n",
    "    atl_addr.loc[i, \"Price\"] = currency_to_int(atl_addr.loc[i, \"Price\"])\n",
    "    \n",
    "atl_addr.head()"
   ]
  },
  {
   "cell_type": "markdown",
   "metadata": {},
   "source": [
    "## Summary Functions\n",
    "restructure the data in some useful way."
   ]
  },
  {
   "cell_type": "code",
   "execution_count": 7,
   "metadata": {},
   "outputs": [
    {
     "data": {
      "text/plain": [
       "count         40\n",
       "unique        36\n",
       "top       550000\n",
       "freq           2\n",
       "Name: Price, dtype: int64"
      ]
     },
     "execution_count": 7,
     "metadata": {},
     "output_type": "execute_result"
    }
   ],
   "source": [
    "# get infomation about a certain column\n",
    "# type-aware, meaning that its output changes based on the data type of the input.\n",
    "atl_addr.Price.describe()"
   ]
  },
  {
   "cell_type": "code",
   "execution_count": 67,
   "metadata": {},
   "outputs": [
    {
     "data": {
      "text/plain": [
       "3112307164953.6597"
      ]
     },
     "execution_count": 67,
     "metadata": {},
     "output_type": "execute_result"
    }
   ],
   "source": [
    "# get mean\n",
    "atl_addr.Price.mean()\n",
    "\n",
    "# get median\n",
    "atl_addr.Price.median()\n",
    "\n",
    "# get mode(众数)\n",
    "atl_addr.Price.mode()\n",
    "\n",
    "# get variance\n",
    "atl_addr.Price.var()"
   ]
  },
  {
   "cell_type": "code",
   "execution_count": 59,
   "metadata": {},
   "outputs": [
    {
     "data": {
      "text/plain": [
       "array(['4 bds', '3 bds', '2 bds', '5 bds', '1 bd', '6 bds', '7 bds',\n",
       "       '8,002 sqft lot'], dtype=object)"
      ]
     },
     "execution_count": 59,
     "metadata": {},
     "output_type": "execute_result"
    }
   ],
   "source": [
    "# get unique value\n",
    "atl_addr.Beds.unique()"
   ]
  },
  {
   "cell_type": "code",
   "execution_count": 10,
   "metadata": {},
   "outputs": [
    {
     "data": {
      "text/plain": [
       "3 bds             12\n",
       "2 bds              8\n",
       "1 bd               6\n",
       "4 bds              6\n",
       "5 bds              5\n",
       "7 bds              1\n",
       "6 bds              1\n",
       "8,002 sqft lot     1\n",
       "Name: Beds, dtype: int64"
      ]
     },
     "execution_count": 10,
     "metadata": {},
     "output_type": "execute_result"
    }
   ],
   "source": [
    "# count frequency of different values\n",
    "atl_addr.Beds.value_counts()"
   ]
  },
  {
   "cell_type": "markdown",
   "metadata": {},
   "source": [
    "## Maps\n",
    "A function that takes one set of values and \"maps\" them to another set of values."
   ]
  },
  {
   "cell_type": "code",
   "execution_count": 23,
   "metadata": {},
   "outputs": [
    {
     "data": {
      "text/plain": [
       "0    773460.075\n",
       "1   -496539.925\n",
       "2   -462539.925\n",
       "3   -401539.925\n",
       "4   -372264.925\n",
       "5   -436639.925\n",
       "6   -372264.925\n",
       "7   -471639.925\n",
       "8   -263639.925\n",
       "9    713460.075\n",
       "Name: Price, dtype: float64"
      ]
     },
     "execution_count": 23,
     "metadata": {},
     "output_type": "execute_result"
    }
   ],
   "source": [
    "# remean some values(将均值修正为0)\n",
    "origin_mean_price = atl_addr.Price.mean()\n",
    "\n",
    "# return a new modified series, original DataFrame unchanged\n",
    "# using map()\n",
    "atl_addr.Price.map(lambda x: x - origin_mean_price).head(10)"
   ]
  },
  {
   "cell_type": "code",
   "execution_count": 38,
   "metadata": {},
   "outputs": [
    {
     "data": {
      "text/html": [
       "<div>\n",
       "<style scoped>\n",
       "    .dataframe tbody tr th:only-of-type {\n",
       "        vertical-align: middle;\n",
       "    }\n",
       "\n",
       "    .dataframe tbody tr th {\n",
       "        vertical-align: top;\n",
       "    }\n",
       "\n",
       "    .dataframe thead th {\n",
       "        text-align: right;\n",
       "    }\n",
       "</style>\n",
       "<table border=\"1\" class=\"dataframe\">\n",
       "  <thead>\n",
       "    <tr style=\"text-align: right;\">\n",
       "      <th></th>\n",
       "      <th>Title</th>\n",
       "      <th>Price</th>\n",
       "      <th>Beds</th>\n",
       "      <th>Baths</th>\n",
       "      <th>Area</th>\n",
       "    </tr>\n",
       "  </thead>\n",
       "  <tbody>\n",
       "    <tr>\n",
       "      <th>0</th>\n",
       "      <td>34 The Prado NE, Atlanta, GA 30309</td>\n",
       "      <td>51920.15</td>\n",
       "      <td>4 bds</td>\n",
       "      <td>4 ba</td>\n",
       "      <td>3,644 sqft</td>\n",
       "    </tr>\n",
       "    <tr>\n",
       "      <th>1</th>\n",
       "      <td>2060 Shirley St SW, Atlanta, GA 30311</td>\n",
       "      <td>-1218079.85</td>\n",
       "      <td>3 bds</td>\n",
       "      <td>2 ba</td>\n",
       "      <td>1,300 sqft</td>\n",
       "    </tr>\n",
       "    <tr>\n",
       "      <th>2</th>\n",
       "      <td>300 Peachtree St NE APT 11G, Atlanta, GA 30308</td>\n",
       "      <td>-1184079.85</td>\n",
       "      <td>2 bds</td>\n",
       "      <td>2 ba</td>\n",
       "      <td>890 sqft</td>\n",
       "    </tr>\n",
       "    <tr>\n",
       "      <th>3</th>\n",
       "      <td>1690 Memorial Dr SE, Atlanta, GA 30317</td>\n",
       "      <td>-1123079.85</td>\n",
       "      <td>2 bds</td>\n",
       "      <td>1 ba</td>\n",
       "      <td>1,163 sqft</td>\n",
       "    </tr>\n",
       "    <tr>\n",
       "      <th>4</th>\n",
       "      <td>6253 Old Kingston Dr, South Fulton, GA</td>\n",
       "      <td>-1093804.85</td>\n",
       "      <td>5 bds</td>\n",
       "      <td>3 ba</td>\n",
       "      <td>-- sqft</td>\n",
       "    </tr>\n",
       "    <tr>\n",
       "      <th>5</th>\n",
       "      <td>2870 Pharr South Court Ct NW # 205, Atlanta, G...</td>\n",
       "      <td>-1158179.85</td>\n",
       "      <td>2 bds</td>\n",
       "      <td>2 ba</td>\n",
       "      <td>-- sqft</td>\n",
       "    </tr>\n",
       "    <tr>\n",
       "      <th>6</th>\n",
       "      <td>6253 Old Kingston Dr # 37, Atlanta, GA 30331</td>\n",
       "      <td>-1093804.85</td>\n",
       "      <td>5 bds</td>\n",
       "      <td>3 ba</td>\n",
       "      <td>-- sqft</td>\n",
       "    </tr>\n",
       "    <tr>\n",
       "      <th>7</th>\n",
       "      <td>943 Peachtree St NE UNIT 1415, Atlanta, GA 30309</td>\n",
       "      <td>-1193179.85</td>\n",
       "      <td>1 bd</td>\n",
       "      <td>1 ba</td>\n",
       "      <td>768 sqft</td>\n",
       "    </tr>\n",
       "    <tr>\n",
       "      <th>8</th>\n",
       "      <td>175 Wynfield Way SW, Atlanta, GA 30331</td>\n",
       "      <td>-985179.85</td>\n",
       "      <td>4 bds</td>\n",
       "      <td>4 ba</td>\n",
       "      <td>3,624 sqft</td>\n",
       "    </tr>\n",
       "    <tr>\n",
       "      <th>9</th>\n",
       "      <td>2973 Margaret Mitchell Ct NW, Atlanta, GA 30327</td>\n",
       "      <td>-8079.85</td>\n",
       "      <td>5 bds</td>\n",
       "      <td>5 ba</td>\n",
       "      <td>4,483 sqft</td>\n",
       "    </tr>\n",
       "  </tbody>\n",
       "</table>\n",
       "</div>"
      ],
      "text/plain": [
       "                                               Title       Price   Beds Baths  \\\n",
       "0                 34 The Prado NE, Atlanta, GA 30309    51920.15  4 bds  4 ba   \n",
       "1              2060 Shirley St SW, Atlanta, GA 30311 -1218079.85  3 bds  2 ba   \n",
       "2     300 Peachtree St NE APT 11G, Atlanta, GA 30308 -1184079.85  2 bds  2 ba   \n",
       "3             1690 Memorial Dr SE, Atlanta, GA 30317 -1123079.85  2 bds  1 ba   \n",
       "4             6253 Old Kingston Dr, South Fulton, GA -1093804.85  5 bds  3 ba   \n",
       "5  2870 Pharr South Court Ct NW # 205, Atlanta, G... -1158179.85  2 bds  2 ba   \n",
       "6       6253 Old Kingston Dr # 37, Atlanta, GA 30331 -1093804.85  5 bds  3 ba   \n",
       "7   943 Peachtree St NE UNIT 1415, Atlanta, GA 30309 -1193179.85   1 bd  1 ba   \n",
       "8             175 Wynfield Way SW, Atlanta, GA 30331  -985179.85  4 bds  4 ba   \n",
       "9    2973 Margaret Mitchell Ct NW, Atlanta, GA 30327    -8079.85  5 bds  5 ba   \n",
       "\n",
       "         Area  \n",
       "0  3,644 sqft  \n",
       "1  1,300 sqft  \n",
       "2    890 sqft  \n",
       "3  1,163 sqft  \n",
       "4     -- sqft  \n",
       "5     -- sqft  \n",
       "6     -- sqft  \n",
       "7    768 sqft  \n",
       "8  3,624 sqft  \n",
       "9  4,483 sqft  "
      ]
     },
     "execution_count": 38,
     "metadata": {},
     "output_type": "execute_result"
    }
   ],
   "source": [
    "# using apply()\n",
    "# could be used to change the DataFrame itself\n",
    "def remean_price(row):\n",
    "    row.Price = row.Price - origin_mean_price\n",
    "    return row\n",
    "\n",
    "atl_addr.apply(remean_price, axis = 1).head(10)"
   ]
  },
  {
   "cell_type": "code",
   "execution_count": 34,
   "metadata": {},
   "outputs": [
    {
     "data": {
      "text/plain": [
       "0    773460\n",
       "1   -496540\n",
       "2   -462540\n",
       "3   -401540\n",
       "4   -372265\n",
       "Name: Price, dtype: object"
      ]
     },
     "execution_count": 34,
     "metadata": {},
     "output_type": "execute_result"
    }
   ],
   "source": [
    "atl_addr.Price.head()"
   ]
  },
  {
   "cell_type": "markdown",
   "metadata": {},
   "source": [
    "**Note that map() and apply() return new, transformed Series and DataFrames, respectively.** "
   ]
  },
  {
   "cell_type": "code",
   "execution_count": 53,
   "metadata": {},
   "outputs": [
    {
     "data": {
      "text/plain": [
       "0    773460\n",
       "1   -496540\n",
       "2   -462540\n",
       "3   -401540\n",
       "4   -372265\n",
       "5   -436640\n",
       "6   -372265\n",
       "7   -471640\n",
       "8   -263640\n",
       "9    713460\n",
       "Name: Price, dtype: object"
      ]
     },
     "execution_count": 53,
     "metadata": {},
     "output_type": "execute_result"
    }
   ],
   "source": [
    "# pandas built-in mapping operations, much simpler\n",
    "atl_addr = pd.read_csv(\"./atl-address-1.csv\")\n",
    "for i in range(len(atl_addr)):\n",
    "    atl_addr.loc[i, \"Price\"] = currency_to_int(atl_addr.loc[i, \"Price\"])\n",
    "\n",
    "# remean, using \"-\"\n",
    "origin_mean_price = atl_addr.Price.mean()\n",
    "new_prices = atl_addr.Price - origin_mean_price    # multiple values substract a single value\n",
    "new_prices.head(10)"
   ]
  },
  {
   "cell_type": "code",
   "execution_count": 55,
   "metadata": {},
   "outputs": [
    {
     "data": {
      "text/plain": [
       "0    4 ba & 4 bds\n",
       "1    2 ba & 3 bds\n",
       "2    2 ba & 2 bds\n",
       "3    1 ba & 2 bds\n",
       "4    3 ba & 5 bds\n",
       "dtype: object"
      ]
     },
     "execution_count": 55,
     "metadata": {},
     "output_type": "execute_result"
    }
   ],
   "source": [
    "# get combination, using \"+\"\n",
    "combs = atl_addr.Baths + \" & \" + atl_addr.Beds     # multiple values to multiple values\n",
    "combs.head(5)"
   ]
  }
 ],
 "metadata": {
  "kernelspec": {
   "display_name": "Python 3.7.3 64-bit ('base': conda)",
   "language": "python",
   "name": "python37364bitbaseconda02e1cef8e882440296af9c0b35ad3d8f"
  },
  "language_info": {
   "codemirror_mode": {
    "name": "ipython",
    "version": 3
   },
   "file_extension": ".py",
   "mimetype": "text/x-python",
   "name": "python",
   "nbconvert_exporter": "python",
   "pygments_lexer": "ipython3",
   "version": "3.7.3"
  }
 },
 "nbformat": 4,
 "nbformat_minor": 2
}
